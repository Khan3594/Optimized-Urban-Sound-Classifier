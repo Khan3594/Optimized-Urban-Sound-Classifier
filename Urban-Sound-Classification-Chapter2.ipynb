{
  "nbformat": 4,
  "nbformat_minor": 0,
  "metadata": {
    "colab": {
      "provenance": [],
      "collapsed_sections": []
    },
    "kernelspec": {
      "name": "python3",
      "display_name": "Python 3"
    },
    "language_info": {
      "name": "python"
    },
    "accelerator": "GPU"
  },
  "cells": [
    {
      "cell_type": "markdown",
      "source": [
        "# Urban Sound Classification(Chapter 2)"
      ],
      "metadata": {
        "id": "-PQk2b-O5zm_"
      }
    },
    {
      "cell_type": "markdown",
      "source": [
        "* Geçen bölümde UrbanSound8K verisetindeki ses dosyalarını spektrum görüntülerine çevirmiştik. \n",
        "\n",
        "* Daha sonra gri forma dönüştürme(grayscale dönüşümü), tüm resimleri (100,100) boyutuna getirme(resizing) ve tüm resimlerin piksel değerlerini maksimum piksel değerine(255) bölmüştük(normalizasyon).\n",
        "\n",
        "* Daha sonra da tüm resimleri bir numpy array'ine toplamıştık(aynı şekilde etiketlerini de başka bir numpy array'ine toplamıştık).\n",
        "\n",
        "* En sonunda da bu array'leri csv dosyalarına kaydetmiştik. Resim array'i çok büyük olduğu için bu array'i 20 parçaya ayırmış, 20 ayrı csv dosyasına kaydetmiştik.\n",
        "\n",
        "* Şimdi kaydedilen csv dosyalarından resim ve etiket array'lerini elde edelim."
      ],
      "metadata": {
        "id": "zw022M3kOEF5"
      }
    },
    {
      "cell_type": "code",
      "source": [
        "from google.colab import drive\n",
        "import os\n",
        "drive.mount(\"/content/drive\")\n",
        "os.chdir(\"/content/drive/My Drive/global_ai_hub\")"
      ],
      "metadata": {
        "colab": {
          "base_uri": "https://localhost:8080/"
        },
        "id": "Jgurdct5uFZo",
        "outputId": "5e0669ac-0249-4822-ea9b-11b7660f1d57"
      },
      "execution_count": 1,
      "outputs": [
        {
          "output_type": "stream",
          "name": "stdout",
          "text": [
            "Mounted at /content/drive\n"
          ]
        }
      ]
    },
    {
      "cell_type": "code",
      "source": [
        "import pandas as pd\n",
        "import numpy as np\n",
        "import matplotlib.pyplot as plt\n",
        "import tensorflow as tf\n",
        "from google.colab.patches import cv2_imshow\n",
        "import cv2"
      ],
      "metadata": {
        "id": "qSr-Uj5hlDID"
      },
      "execution_count": 2,
      "outputs": []
    },
    {
      "cell_type": "markdown",
      "source": [
        "### \"chapter1.ipynb\" notebook'unda işleyip kaydettiğimiz verileri çekelim:"
      ],
      "metadata": {
        "id": "HNT0U-rg4jpf"
      }
    },
    {
      "cell_type": "code",
      "source": [
        "number_of_pieces=20\n",
        "for i in range(number_of_pieces):\n",
        "  file_name=\"images_csv_folder/images\"+str(i)+\".csv\"\n",
        "  flatten_X_piece = np.genfromtxt(file_name, delimiter=\",\")\n",
        "  if i==0:\n",
        "    flatten_X=flatten_X_piece\n",
        "  else:\n",
        "    flatten_X=np.concatenate((flatten_X,flatten_X_piece),axis=0)"
      ],
      "metadata": {
        "id": "Lwmk7flsatT8"
      },
      "execution_count": 4,
      "outputs": []
    },
    {
      "cell_type": "code",
      "source": [
        "y = np.genfromtxt(\"labels.csv\", delimiter=\",\")"
      ],
      "metadata": {
        "id": "VfDy9OnIxbXR"
      },
      "execution_count": 5,
      "outputs": []
    },
    {
      "cell_type": "code",
      "source": [
        "y=y.astype(int)"
      ],
      "metadata": {
        "id": "kGgX11MOfRp4"
      },
      "execution_count": 6,
      "outputs": []
    },
    {
      "cell_type": "code",
      "source": [
        "print(flatten_X.shape)"
      ],
      "metadata": {
        "colab": {
          "base_uri": "https://localhost:8080/"
        },
        "id": "5pcjE7Ra2Npf",
        "outputId": "bc300b59-1f2a-4ade-cb20-3a46f2062564"
      },
      "execution_count": 7,
      "outputs": [
        {
          "output_type": "stream",
          "name": "stdout",
          "text": [
            "(8732, 10000)\n"
          ]
        }
      ]
    },
    {
      "cell_type": "markdown",
      "source": [
        "### Birinci bölümde, üç boyutlu resim array'ini (8732, 100, 100) kaydedebilmek için iki boyuta getirmiştik (8732, 10000). Şimdi eğitimde kullanmak üzere; kaydettiğimiz yerden okuduğumuz iki boyutlu X array'ini tekrar üç boyutlu hale getirmemiz gerekiyor:"
      ],
      "metadata": {
        "id": "K7fevdon5JLg"
      }
    },
    {
      "cell_type": "code",
      "source": [
        "X= flatten_X.reshape(flatten_X.shape[0],int(np.sqrt(flatten_X.shape[1])),int(np.sqrt(flatten_X.shape[1])))"
      ],
      "metadata": {
        "id": "i_h2FDlM2QOv"
      },
      "execution_count": 8,
      "outputs": []
    },
    {
      "cell_type": "code",
      "source": [
        "X.shape"
      ],
      "metadata": {
        "colab": {
          "base_uri": "https://localhost:8080/"
        },
        "id": "WI65f-lj2Z6Q",
        "outputId": "44730daf-7bb6-42e1-87ed-92d5c992cee9"
      },
      "execution_count": 9,
      "outputs": [
        {
          "output_type": "execute_result",
          "data": {
            "text/plain": [
              "(8732, 100, 100)"
            ]
          },
          "metadata": {},
          "execution_count": 9
        }
      ]
    },
    {
      "cell_type": "code",
      "source": [
        "y.shape"
      ],
      "metadata": {
        "colab": {
          "base_uri": "https://localhost:8080/"
        },
        "id": "v6XTmLHQ2bet",
        "outputId": "a5126556-3fa9-4f7b-e5d5-533bb324e12e"
      },
      "execution_count": 10,
      "outputs": [
        {
          "output_type": "execute_result",
          "data": {
            "text/plain": [
              "(8732,)"
            ]
          },
          "metadata": {},
          "execution_count": 10
        }
      ]
    },
    {
      "cell_type": "markdown",
      "source": [
        "* Artık veriyi train(%85), valid(%10), test(%5) olarak bölebiliriz. Bölme oranları istenildiği gibi oluşturulabilir."
      ],
      "metadata": {
        "id": "mHP6_SLfEOUi"
      }
    },
    {
      "cell_type": "code",
      "source": [
        "train_per=0.85\n",
        "val_per=0.1\n",
        "test_per=0.05\n",
        "total_size=len(X) #Elimizdeki toplam veri sayısı\n",
        "\n",
        "# 0'dan başlayıp toplam veri sayısının %85'ine kadarki kısmı train için ayır. Aynı şeyi etiketleri için de yap.\n",
        "X_train=X[:int(total_size*train_per)] \n",
        "y_train=y[:int(total_size*train_per)] \n",
        "\n",
        "# X'in %85'lik kısmının son elemanından başlayıp %95'lik kısmına kadar validasyon verisi için ayır. Aynı şeyi etiketleri için de yap.\n",
        "X_val=X[int(total_size*train_per):int(total_size*(train_per+val_per))] \n",
        "y_val=y[int(total_size*train_per):int(total_size*(train_per+val_per))]\n",
        "\n",
        "# X'in %95'lik kısmının son elemanından başlayıp X'in son elemanına kadar ayır. Aynı şeyi etiketleri için de yap.\n",
        "X_test=X[int(total_size*(train_per+val_per)):]\n",
        "y_test=y[int(total_size*(train_per+val_per)):]"
      ],
      "metadata": {
        "id": "S4yajbYKezRk"
      },
      "execution_count": 11,
      "outputs": []
    },
    {
      "cell_type": "markdown",
      "source": [
        "* Bölme işlemi sonucu:\n",
        "\n",
        "Train Veri Sayısı: 7422\n",
        "\n",
        "Validasyon Veri Sayısı: 873\n",
        "\n",
        "Test Veri Sayısı: 437"
      ],
      "metadata": {
        "id": "a7dJBOBQGFhb"
      }
    },
    {
      "cell_type": "code",
      "source": [
        "print(f\"Len of X_train:{len(X_train)}\")\n",
        "print(f\"Len of y_train:{len(y_train)}\")\n",
        "print(f\"Len of X_val:{len(X_val)}\")\n",
        "print(f\"Len of y_val:{len(y_val)}\")\n",
        "print(f\"Len of X_test:{len(X_test)}\")\n",
        "print(f\"Len of y_test:{len(y_test)}\")"
      ],
      "metadata": {
        "colab": {
          "base_uri": "https://localhost:8080/"
        },
        "id": "2ediAnlaiNnb",
        "outputId": "d4c3b00b-621a-417f-8996-8bd90ad1e5ac"
      },
      "execution_count": 12,
      "outputs": [
        {
          "output_type": "stream",
          "name": "stdout",
          "text": [
            "Len of X_train:7422\n",
            "Len of y_train:7422\n",
            "Len of X_val:873\n",
            "Len of y_val:873\n",
            "Len of X_test:437\n",
            "Len of y_test:437\n"
          ]
        }
      ]
    },
    {
      "cell_type": "markdown",
      "source": [
        "* Eğitim için kullanılacak X_train array'inin boyutu (3920, 100, 100) şeklinde. Bunun anlamı; X_train içinde (100,100) boyutunda 3920 adet resim var.\n",
        "\n",
        "* y_train array'inin boyutu ise (3920,) şeklinde. Bunun anlamı; 3920 adet 0 boyutlu(bildiğimiz 3, 5 gibi sayılar) etiket var."
      ],
      "metadata": {
        "id": "HUixGWUCGW_o"
      }
    },
    {
      "cell_type": "code",
      "source": [
        "print(X_train.shape)\n",
        "print(y_train.shape)\n",
        "print(\"y_train'nin ilk 10 elemanı:\")\n",
        "print(y_train[0:10])"
      ],
      "metadata": {
        "colab": {
          "base_uri": "https://localhost:8080/"
        },
        "id": "MngZh6Otb6At",
        "outputId": "c7e45c72-8fc6-46cd-8c79-a9f7f95314b7"
      },
      "execution_count": 13,
      "outputs": [
        {
          "output_type": "stream",
          "name": "stdout",
          "text": [
            "(7422, 100, 100)\n",
            "(7422,)\n",
            "y_train'nin ilk 10 elemanı:\n",
            "[0 2 4 3 9 5 2 5 5 7]\n"
          ]
        }
      ]
    },
    {
      "cell_type": "markdown",
      "source": [
        "## 3. Model Hazırlanması ve Eğitimi - Notebook\n",
        "a. Bir CNN modeli hazırlayın.\n",
        "\n",
        "b. Modeli hazırlamış olduğunuz veriyi kullanarak eğitin.\n",
        "\n",
        "c. Modelin performans metriklerini, loss ve accuracy grafiklerini ekrana yazdırın.\n",
        "\n",
        "d. Aldığınız sonuçlara göre hyperparameter optimization yapın."
      ],
      "metadata": {
        "id": "VBDq2yvB6t5g"
      }
    },
    {
      "cell_type": "code",
      "source": [
        "# Konvolüsyon Katmanları:\n",
        "model=tf.keras.Sequential()\n",
        "model.add(tf.keras.layers.Conv2D(32,\n",
        "                                 kernel_size=(3,3),\n",
        "                                 strides=(1,1),\n",
        "                                 padding=\"same\",\n",
        "                                 activation=\"relu\",\n",
        "                                 input_shape=(100,100,1))) # Ön İşlemede tüm resimleri sabit (100,100) yapmıştık. 1 ifadesi resimlerin gri olduğunu\n",
        "model.add(tf.keras.layers.MaxPool2D((2,2)))                # belirtiyor.\n",
        "model.add(tf.keras.layers.Conv2D(64,\n",
        "                                 kernel_size=(3,3),\n",
        "                                 strides=(1,1),\n",
        "                                 padding=\"same\",\n",
        "                                 activation=\"relu\"))\n",
        "model.add(tf.keras.layers.MaxPool2D((2,2)))\n",
        "model.add(tf.keras.layers.Conv2D(128,\n",
        "                                 kernel_size=(3,3),\n",
        "                                 strides=(1,1),\n",
        "                                 padding=\"same\",\n",
        "                                 activation=\"relu\"))\n",
        "model.add(tf.keras.layers.MaxPool2D((2,2)))\n",
        "model.add(tf.keras.layers.Conv2D(256,\n",
        "                                 kernel_size=(3,3),\n",
        "                                 strides=(1,1),\n",
        "                                 padding=\"same\",\n",
        "                                 activation=\"relu\"))\n",
        "model.add(tf.keras.layers.MaxPool2D((2,2)))\n",
        "\n",
        "#  Neural Network Katmanı:\n",
        "model.add(tf.keras.layers.Flatten())\n",
        "model.add(tf.keras.layers.Dense(512, activation=\"relu\"))\n",
        "model.add(tf.keras.layers.Dropout(0.81))\n",
        "model.add(tf.keras.layers.Dense(1024, activation=\"relu\"))\n",
        "model.add(tf.keras.layers.Dropout(0.81))\n",
        "model.add(tf.keras.layers.Dense(10, activation=\"softmax\"))"
      ],
      "metadata": {
        "id": "06ko42NE60fj"
      },
      "execution_count": 14,
      "outputs": []
    },
    {
      "cell_type": "code",
      "source": [
        "model.compile(optimizer=\"adam\", loss=\"sparse_categorical_crossentropy\", metrics=[\"accuracy\"])"
      ],
      "metadata": {
        "id": "cY3SGWe2_PLI"
      },
      "execution_count": 15,
      "outputs": []
    },
    {
      "cell_type": "code",
      "source": [
        "results=model.fit(X_train, y_train, batch_size=128, epochs=20, validation_data=(X_val, y_val))"
      ],
      "metadata": {
        "id": "hAvyi1DX_aIk",
        "colab": {
          "base_uri": "https://localhost:8080/"
        },
        "outputId": "2233bee2-eef4-41f3-a557-3da659af05f5"
      },
      "execution_count": 16,
      "outputs": [
        {
          "output_type": "stream",
          "name": "stdout",
          "text": [
            "Epoch 1/20\n",
            "58/58 [==============================] - 17s 79ms/step - loss: 2.1164 - accuracy: 0.1898 - val_loss: 1.7679 - val_accuracy: 0.3746\n",
            "Epoch 2/20\n",
            "58/58 [==============================] - 3s 58ms/step - loss: 1.6343 - accuracy: 0.3936 - val_loss: 1.3594 - val_accuracy: 0.5395\n",
            "Epoch 3/20\n",
            "58/58 [==============================] - 4s 61ms/step - loss: 1.3644 - accuracy: 0.5040 - val_loss: 1.2235 - val_accuracy: 0.6564\n",
            "Epoch 4/20\n",
            "58/58 [==============================] - 3s 58ms/step - loss: 1.1846 - accuracy: 0.5873 - val_loss: 0.9386 - val_accuracy: 0.6861\n",
            "Epoch 5/20\n",
            "58/58 [==============================] - 3s 58ms/step - loss: 0.9574 - accuracy: 0.6773 - val_loss: 0.7265 - val_accuracy: 0.7709\n",
            "Epoch 6/20\n",
            "58/58 [==============================] - 3s 58ms/step - loss: 0.8194 - accuracy: 0.7249 - val_loss: 0.6553 - val_accuracy: 0.7881\n",
            "Epoch 7/20\n",
            "58/58 [==============================] - 3s 58ms/step - loss: 0.6999 - accuracy: 0.7790 - val_loss: 0.5489 - val_accuracy: 0.8408\n",
            "Epoch 8/20\n",
            "58/58 [==============================] - 3s 58ms/step - loss: 0.5979 - accuracy: 0.8084 - val_loss: 0.4792 - val_accuracy: 0.8442\n",
            "Epoch 9/20\n",
            "58/58 [==============================] - 3s 58ms/step - loss: 0.5443 - accuracy: 0.8302 - val_loss: 0.4416 - val_accuracy: 0.8580\n",
            "Epoch 10/20\n",
            "58/58 [==============================] - 3s 58ms/step - loss: 0.4736 - accuracy: 0.8546 - val_loss: 0.4387 - val_accuracy: 0.8614\n",
            "Epoch 11/20\n",
            "58/58 [==============================] - 3s 58ms/step - loss: 0.4253 - accuracy: 0.8688 - val_loss: 0.4056 - val_accuracy: 0.8751\n",
            "Epoch 12/20\n",
            "58/58 [==============================] - 3s 59ms/step - loss: 0.3481 - accuracy: 0.8930 - val_loss: 0.3424 - val_accuracy: 0.9026\n",
            "Epoch 13/20\n",
            "58/58 [==============================] - 3s 58ms/step - loss: 0.3262 - accuracy: 0.8944 - val_loss: 0.3491 - val_accuracy: 0.8900\n",
            "Epoch 14/20\n",
            "58/58 [==============================] - 3s 58ms/step - loss: 0.3061 - accuracy: 0.9072 - val_loss: 0.3543 - val_accuracy: 0.8981\n",
            "Epoch 15/20\n",
            "58/58 [==============================] - 4s 61ms/step - loss: 0.2662 - accuracy: 0.9179 - val_loss: 0.3733 - val_accuracy: 0.9072\n",
            "Epoch 16/20\n",
            "58/58 [==============================] - 3s 59ms/step - loss: 0.2402 - accuracy: 0.9268 - val_loss: 0.3786 - val_accuracy: 0.8981\n",
            "Epoch 17/20\n",
            "58/58 [==============================] - 3s 59ms/step - loss: 0.2033 - accuracy: 0.9402 - val_loss: 0.3040 - val_accuracy: 0.9164\n",
            "Epoch 18/20\n",
            "58/58 [==============================] - 3s 59ms/step - loss: 0.1834 - accuracy: 0.9440 - val_loss: 0.3698 - val_accuracy: 0.9061\n",
            "Epoch 19/20\n",
            "58/58 [==============================] - 3s 59ms/step - loss: 0.1910 - accuracy: 0.9407 - val_loss: 0.3898 - val_accuracy: 0.9084\n",
            "Epoch 20/20\n",
            "58/58 [==============================] - 3s 59ms/step - loss: 0.1584 - accuracy: 0.9499 - val_loss: 0.2953 - val_accuracy: 0.9255\n"
          ]
        }
      ]
    },
    {
      "cell_type": "code",
      "source": [
        "plt.plot(results.history[\"loss\"], label=\"loss\")\n",
        "plt.plot(results.history[\"val_loss\"], label=\"val_loss\")\n",
        "plt.xlabel(\"Epochs\")\n",
        "plt.ylabel(\"Loss\")\n",
        "plt.legend()\n",
        "plt.show()"
      ],
      "metadata": {
        "id": "rQPwceHn_nvK",
        "colab": {
          "base_uri": "https://localhost:8080/",
          "height": 279
        },
        "outputId": "13a567ce-ff4d-40b2-b7ba-babaa5f69434"
      },
      "execution_count": 17,
      "outputs": [
        {
          "output_type": "display_data",
          "data": {
            "text/plain": [
              "<Figure size 432x288 with 1 Axes>"
            ],
            "image/png": "[encoded data removed]"
          },
          "metadata": {
            "needs_background": "light"
          }
        }
      ]
    },
    {
      "cell_type": "code",
      "source": [
        "plt.plot(results.history[\"accuracy\"], label=\"accuracy\")\n",
        "plt.plot(results.history[\"val_accuracy\"], label=\"val_accuracy\")\n",
        "plt.xlabel(\"Epochs\")\n",
        "plt.ylabel(\"Accuracy\")\n",
        "plt.legend()\n",
        "plt.show()"
      ],
      "metadata": {
        "id": "3JHx_bwv_yfg",
        "colab": {
          "base_uri": "https://localhost:8080/",
          "height": 279
        },
        "outputId": "49791eaf-94d0-4900-cdba-a3b4442b8603"
      },
      "execution_count": 18,
      "outputs": [
        {
          "output_type": "display_data",
          "data": {
            "text/plain": [
              "<Figure size 432x288 with 1 Axes>"
            ],
            "image/png": "[encoded data removed]"
          },
          "metadata": {
            "needs_background": "light"
          }
        }
      ]
    },
    {
      "cell_type": "code",
      "source": [
        "#Birinci eleman kaybı, ikinci eleman ise doğruluğu ifade ediyor.\n",
        "model.evaluate(X_test, y_test)"
      ],
      "metadata": {
        "id": "VTBGZx4q_72F",
        "colab": {
          "base_uri": "https://localhost:8080/"
        },
        "outputId": "2beb6744-6ee9-45f4-e03d-a6ce26e5b5b8"
      },
      "execution_count": 19,
      "outputs": [
        {
          "output_type": "stream",
          "name": "stdout",
          "text": [
            "14/14 [==============================] - 0s 15ms/step - loss: 0.2040 - accuracy: 0.9428\n"
          ]
        },
        {
          "output_type": "execute_result",
          "data": {
            "text/plain": [
              "[0.20395511388778687, 0.942791759967804]"
            ]
          },
          "metadata": {},
          "execution_count": 19
        }
      ]
    },
    {
      "cell_type": "code",
      "source": [
        "model.save(\"best_model.h5\")"
      ],
      "metadata": {
        "id": "sJZPHHCGO_GQ"
      },
      "execution_count": 21,
      "outputs": []
    },
    {
      "cell_type": "code",
      "source": [
        "#Örnek Resim:\n",
        "cv2_imshow(X_test[100]*255)\n",
        "prediction_result=model.predict(X_test[100].reshape((1,100,100,1)))\n",
        "prediction_result\n",
        "predicted_class=prediction_result.argmax()\n",
        "predicted_probability=prediction_result.max()\n",
        "\n",
        "print(\"Label: \"+str(y_test[100]))\n",
        "print(\"Prediction: \"+str(predicted_class))\n",
        "print(\"Prediction Probability: \"+str(int(predicted_probability*100))+\"%\")"
      ],
      "metadata": {
        "id": "lIDIlC_GAA34",
        "colab": {
          "base_uri": "https://localhost:8080/",
          "height": 169
        },
        "outputId": "6966d307-988d-4ef4-f91c-8ef1927cd4b8"
      },
      "execution_count": 20,
      "outputs": [
        {
          "output_type": "display_data",
          "data": {
            "text/plain": [
              "<PIL.Image.Image image mode=L size=100x100 at 0x7FA50E767710>"
            ],
            "image/png": "[encoded data removed]"
          },
          "metadata": {}
        },
        {
          "output_type": "stream",
          "name": "stdout",
          "text": [
            "Label: 4\n",
            "Prediction: 4\n",
            "Prediction Probability: 99%\n"
          ]
        }
      ]
    },
    {
      "cell_type": "code",
      "source": [],
      "metadata": {
        "id": "PFlRi40Q7IUr"
      },
      "execution_count": null,
      "outputs": []
    }
  ]
}