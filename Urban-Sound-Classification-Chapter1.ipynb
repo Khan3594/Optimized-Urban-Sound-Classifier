{
  "nbformat": 4,
  "nbformat_minor": 0,
  "metadata": {
    "colab": {
      "provenance": [],
      "collapsed_sections": []
    },
    "kernelspec": {
      "name": "python3",
      "display_name": "Python 3"
    },
    "language_info": {
      "name": "python"
    }
  },
  "cells": [
    {
      "cell_type": "markdown",
      "source": [
        "# Urban Sounds Classification"
      ],
      "metadata": {
        "id": "8c2lvOZNc2aa"
      }
    },
    {
      "cell_type": "markdown",
      "source": [
        "## Kullanacağımız Kütüphaneler\n",
        "\n",
        "* Kodu Colab'da yazdığımız için kullanacağımız ses, veri gibi materyalleri Google Drive'a atmak gerekiyor.\n",
        "\n",
        "* drive.mount: Aynı Linux'ta olduğu gibi Drive'da da kök dizin vardır. Drive'da kök dizin /content/drive şeklindedir. Bu kod ile kök dizine bağlanılır.\n",
        "\n",
        "* os.chdir: Linux'ta da olduğu gibi chdir komutu bizi istediğimiz klasöre atar. Dikkat ederseniz burada da /content/drive dosya yolu var. Ama biz My Drive dosyasına bağlanmak istiyoruz. Bu dosya tıpkı Windows'ta Desktop gibi bir klasör. Yani Desktop'ın Google Drive'da karşılığı My Drive'dır.  UrbanSound8K.tar.gz(sıkıştırılmış dosya) dosyasını da My Drive içinde global_ai_hub diye daha önce oluşturduğumuz klasöre yüklemiştik. Bu yüzden chdir ile dosya yolunu buraya getirdik. Artık bu klasörün içindeyiz."
      ],
      "metadata": {
        "id": "1DrWtg-Pc6MA"
      }
    },
    {
      "cell_type": "code",
      "execution_count": 1,
      "metadata": {
        "colab": {
          "base_uri": "https://localhost:8080/"
        },
        "id": "85nzijdtcyJZ",
        "outputId": "2d5fa03e-75fb-40e3-c015-84d80cf561bd"
      },
      "outputs": [
        {
          "output_type": "stream",
          "name": "stdout",
          "text": [
            "Drive already mounted at /content/drive; to attempt to forcibly remount, call drive.mount(\"/content/drive\", force_remount=True).\n"
          ]
        }
      ],
      "source": [
        "from google.colab import drive\n",
        "import os\n",
        "drive.mount(\"/content/drive\")\n",
        "os.chdir(\"/content/drive/My Drive/global_ai_hub\")"
      ]
    },
    {
      "cell_type": "markdown",
      "source": [
        "## Diğer Kütüphaneler\n",
        "\n",
        "* librosa: Bu kütüphane ses dosyalarını(mp3, wav gibi dosyalar) okumamızı sağlar.\n",
        "\n",
        "* librosa.display: librosa'nın bir özelliği de ses dosyalarını resme çevirebilmesidir. Bunun için librosa'nın display metodunu kullanılır.\n",
        "\n",
        "* cv2: OpenCV kütüphanesi, resimler üzerinde sonsuz sayıda işlemler yapmamızı sağlar. Resimleri okur, gösterir, resim üzerinde değişiklik yaparsak kaydeder. Küçültme, büyütme, renkli resimleri gri formata dönüştürme gibi daha bir sürü işlem yapmamızı sağlar."
      ],
      "metadata": {
        "id": "cuVu3bFddBU1"
      }
    },
    {
      "cell_type": "code",
      "source": [
        "import librosa\n",
        "import librosa.display\n",
        "import numpy as np\n",
        "import matplotlib.pyplot as plt\n",
        "import cv2"
      ],
      "metadata": {
        "id": "U92Vx0A7dBro"
      },
      "execution_count": 2,
      "outputs": []
    },
    {
      "cell_type": "markdown",
      "source": [
        "* os.chdir ile global_ai_hub içine girmiştik. Daha önce global_ai_hub'ın içine UrbanSound8K.tar.gz sıkıştırılmış dosyasını yüklemiştik. Aşağıdaki komutla bu sıkıştırılmış dosyayı açtık."
      ],
      "metadata": {
        "id": "cVP4gCMpdHqW"
      }
    },
    {
      "cell_type": "code",
      "source": [
        "#Unzip  UrbanSound8K.tar.gz\n",
        "!tar -xvf UrbanSound8K.tar.gz"
      ],
      "metadata": {
        "id": "QpfNk1HNdH-x"
      },
      "execution_count": 3,
      "outputs": []
    },
    {
      "cell_type": "code",
      "source": [
        "!ls"
      ],
      "metadata": {
        "colab": {
          "base_uri": "https://localhost:8080/"
        },
        "id": "16bcxc8YQcts",
        "outputId": "506caec5-2ff8-4701-cf06-c518e12560e6"
      },
      "execution_count": 4,
      "outputs": [
        {
          "output_type": "stream",
          "name": "stdout",
          "text": [
            "chapter1.ipynb\tchapter2.ipynb\tUrbanSound8K  UrbanSound8K.tar.gz\n"
          ]
        }
      ]
    },
    {
      "cell_type": "markdown",
      "source": [
        "## 0. Resim Dosyaları Oluşturma\n",
        "\n",
        "* Sıkıştırılmış dosyayı açınca içinde sound ve metadata adında iki klasör olan bir klasör gelmiş olacak. sound klasöründe ses dosyaları var, metadata içinde de bir tablo dosyası var(UrbanSound8K.csv). Bu dosyayı pandas kütüphanesi vasıtasıyla açalım.\n",
        "\n",
        "\n",
        "* En soldaki sütunda ses dosyalarının isimleri var. Dikkat ederseniz dosya isminde ilk \"-\" ifadesinden sonraki numara sınıf/etiket'lerdir. classID sütunundaki etiketlerle bu numaraların aynı olduğunu aşağıdaki tablodan görebilirsiniz. Dolayısıyla ileride bu dosyaların etiketlerine dosya isimlerinden(100032-'3'-0-0.wav gibi) erişeceğiz.\n",
        "\n",
        "* Toplam 10 adet etiket var. Detayları da şöyle:\n",
        "\n",
        "0 = air_conditioner\n",
        "\n",
        "1 = car_horn\n",
        "\n",
        "2 = children_playing\n",
        "\n",
        "3 = dog_bark\n",
        "\n",
        "4 = drilling\n",
        "\n",
        "5 = engine_idling\n",
        "\n",
        "6 = gun_shot\n",
        "\n",
        "7 = jackhammer\n",
        "\n",
        "8 = siren\n",
        "\n",
        "9 = street_music"
      ],
      "metadata": {
        "id": "qWS1-3cFdLlj"
      }
    },
    {
      "cell_type": "code",
      "source": [
        "import pandas as pd\n",
        "df=pd.read_csv(\"/content/drive/My Drive/global_ai_hub/UrbanSound8K/metadata/UrbanSound8K.csv\")\n",
        "df.head(15)"
      ],
      "metadata": {
        "colab": {
          "base_uri": "https://localhost:8080/",
          "height": 520
        },
        "id": "OZ-6zkixdL5W",
        "outputId": "08cbe3a3-bb9e-4afa-c2da-6c7d3922be46"
      },
      "execution_count": 5,
      "outputs": [
        {
          "output_type": "execute_result",
          "data": {
            "text/plain": [
              "       slice_file_name    fsID      start        end  salience  fold  classID  \\\n",
              "0     100032-3-0-0.wav  100032   0.000000   0.317551         1     5        3   \n",
              "1   100263-2-0-117.wav  100263  58.500000  62.500000         1     5        2   \n",
              "2   100263-2-0-121.wav  100263  60.500000  64.500000         1     5        2   \n",
              "3   100263-2-0-126.wav  100263  63.000000  67.000000         1     5        2   \n",
              "4   100263-2-0-137.wav  100263  68.500000  72.500000         1     5        2   \n",
              "5   100263-2-0-143.wav  100263  71.500000  75.500000         1     5        2   \n",
              "6   100263-2-0-161.wav  100263  80.500000  84.500000         1     5        2   \n",
              "7     100263-2-0-3.wav  100263   1.500000   5.500000         1     5        2   \n",
              "8    100263-2-0-36.wav  100263  18.000000  22.000000         1     5        2   \n",
              "9     100648-1-0-0.wav  100648   4.823402   5.471927         2    10        1   \n",
              "10    100648-1-1-0.wav  100648   8.998279  10.052132         2    10        1   \n",
              "11    100648-1-2-0.wav  100648  16.699509  17.104837         2    10        1   \n",
              "12    100648-1-3-0.wav  100648  17.631764  19.253075         2    10        1   \n",
              "13    100648-1-4-0.wav  100648  25.332994  27.197502         2    10        1   \n",
              "14    100652-3-0-0.wav  100652   0.000000   4.000000         1     2        3   \n",
              "\n",
              "               class  \n",
              "0           dog_bark  \n",
              "1   children_playing  \n",
              "2   children_playing  \n",
              "3   children_playing  \n",
              "4   children_playing  \n",
              "5   children_playing  \n",
              "6   children_playing  \n",
              "7   children_playing  \n",
              "8   children_playing  \n",
              "9           car_horn  \n",
              "10          car_horn  \n",
              "11          car_horn  \n",
              "12          car_horn  \n",
              "13          car_horn  \n",
              "14          dog_bark  "
            ],
            "text/html": [
              "\n",
              "  <div id=\"df-efb0b93d-4b15-4a1e-b33e-c8d015576c22\">\n",
              "    <div class=\"colab-df-container\">\n",
              "      <div>\n",
              "<style scoped>\n",
              "    .dataframe tbody tr th:only-of-type {\n",
              "        vertical-align: middle;\n",
              "    }\n",
              "\n",
              "    .dataframe tbody tr th {\n",
              "        vertical-align: top;\n",
              "    }\n",
              "\n",
              "    .dataframe thead th {\n",
              "        text-align: right;\n",
              "    }\n",
              "</style>\n",
              "<table border=\"1\" class=\"dataframe\">\n",
              "  <thead>\n",
              "    <tr style=\"text-align: right;\">\n",
              "      <th></th>\n",
              "      <th>slice_file_name</th>\n",
              "      <th>fsID</th>\n",
              "      <th>start</th>\n",
              "      <th>end</th>\n",
              "      <th>salience</th>\n",
              "      <th>fold</th>\n",
              "      <th>classID</th>\n",
              "      <th>class</th>\n",
              "    </tr>\n",
              "  </thead>\n",
              "  <tbody>\n",
              "    <tr>\n",
              "      <th>0</th>\n",
              "      <td>100032-3-0-0.wav</td>\n",
              "      <td>100032</td>\n",
              "      <td>0.000000</td>\n",
              "      <td>0.317551</td>\n",
              "      <td>1</td>\n",
              "      <td>5</td>\n",
              "      <td>3</td>\n",
              "      <td>dog_bark</td>\n",
              "    </tr>\n",
              "    <tr>\n",
              "      <th>1</th>\n",
              "      <td>100263-2-0-117.wav</td>\n",
              "      <td>100263</td>\n",
              "      <td>58.500000</td>\n",
              "      <td>62.500000</td>\n",
              "      <td>1</td>\n",
              "      <td>5</td>\n",
              "      <td>2</td>\n",
              "      <td>children_playing</td>\n",
              "    </tr>\n",
              "    <tr>\n",
              "      <th>2</th>\n",
              "      <td>100263-2-0-121.wav</td>\n",
              "      <td>100263</td>\n",
              "      <td>60.500000</td>\n",
              "      <td>64.500000</td>\n",
              "      <td>1</td>\n",
              "      <td>5</td>\n",
              "      <td>2</td>\n",
              "      <td>children_playing</td>\n",
              "    </tr>\n",
              "    <tr>\n",
              "      <th>3</th>\n",
              "      <td>100263-2-0-126.wav</td>\n",
              "      <td>100263</td>\n",
              "      <td>63.000000</td>\n",
              "      <td>67.000000</td>\n",
              "      <td>1</td>\n",
              "      <td>5</td>\n",
              "      <td>2</td>\n",
              "      <td>children_playing</td>\n",
              "    </tr>\n",
              "    <tr>\n",
              "      <th>4</th>\n",
              "      <td>100263-2-0-137.wav</td>\n",
              "      <td>100263</td>\n",
              "      <td>68.500000</td>\n",
              "      <td>72.500000</td>\n",
              "      <td>1</td>\n",
              "      <td>5</td>\n",
              "      <td>2</td>\n",
              "      <td>children_playing</td>\n",
              "    </tr>\n",
              "    <tr>\n",
              "      <th>5</th>\n",
              "      <td>100263-2-0-143.wav</td>\n",
              "      <td>100263</td>\n",
              "      <td>71.500000</td>\n",
              "      <td>75.500000</td>\n",
              "      <td>1</td>\n",
              "      <td>5</td>\n",
              "      <td>2</td>\n",
              "      <td>children_playing</td>\n",
              "    </tr>\n",
              "    <tr>\n",
              "      <th>6</th>\n",
              "      <td>100263-2-0-161.wav</td>\n",
              "      <td>100263</td>\n",
              "      <td>80.500000</td>\n",
              "      <td>84.500000</td>\n",
              "      <td>1</td>\n",
              "      <td>5</td>\n",
              "      <td>2</td>\n",
              "      <td>children_playing</td>\n",
              "    </tr>\n",
              "    <tr>\n",
              "      <th>7</th>\n",
              "      <td>100263-2-0-3.wav</td>\n",
              "      <td>100263</td>\n",
              "      <td>1.500000</td>\n",
              "      <td>5.500000</td>\n",
              "      <td>1</td>\n",
              "      <td>5</td>\n",
              "      <td>2</td>\n",
              "      <td>children_playing</td>\n",
              "    </tr>\n",
              "    <tr>\n",
              "      <th>8</th>\n",
              "      <td>100263-2-0-36.wav</td>\n",
              "      <td>100263</td>\n",
              "      <td>18.000000</td>\n",
              "      <td>22.000000</td>\n",
              "      <td>1</td>\n",
              "      <td>5</td>\n",
              "      <td>2</td>\n",
              "      <td>children_playing</td>\n",
              "    </tr>\n",
              "    <tr>\n",
              "      <th>9</th>\n",
              "      <td>100648-1-0-0.wav</td>\n",
              "      <td>100648</td>\n",
              "      <td>4.823402</td>\n",
              "      <td>5.471927</td>\n",
              "      <td>2</td>\n",
              "      <td>10</td>\n",
              "      <td>1</td>\n",
              "      <td>car_horn</td>\n",
              "    </tr>\n",
              "    <tr>\n",
              "      <th>10</th>\n",
              "      <td>100648-1-1-0.wav</td>\n",
              "      <td>100648</td>\n",
              "      <td>8.998279</td>\n",
              "      <td>10.052132</td>\n",
              "      <td>2</td>\n",
              "      <td>10</td>\n",
              "      <td>1</td>\n",
              "      <td>car_horn</td>\n",
              "    </tr>\n",
              "    <tr>\n",
              "      <th>11</th>\n",
              "      <td>100648-1-2-0.wav</td>\n",
              "      <td>100648</td>\n",
              "      <td>16.699509</td>\n",
              "      <td>17.104837</td>\n",
              "      <td>2</td>\n",
              "      <td>10</td>\n",
              "      <td>1</td>\n",
              "      <td>car_horn</td>\n",
              "    </tr>\n",
              "    <tr>\n",
              "      <th>12</th>\n",
              "      <td>100648-1-3-0.wav</td>\n",
              "      <td>100648</td>\n",
              "      <td>17.631764</td>\n",
              "      <td>19.253075</td>\n",
              "      <td>2</td>\n",
              "      <td>10</td>\n",
              "      <td>1</td>\n",
              "      <td>car_horn</td>\n",
              "    </tr>\n",
              "    <tr>\n",
              "      <th>13</th>\n",
              "      <td>100648-1-4-0.wav</td>\n",
              "      <td>100648</td>\n",
              "      <td>25.332994</td>\n",
              "      <td>27.197502</td>\n",
              "      <td>2</td>\n",
              "      <td>10</td>\n",
              "      <td>1</td>\n",
              "      <td>car_horn</td>\n",
              "    </tr>\n",
              "    <tr>\n",
              "      <th>14</th>\n",
              "      <td>100652-3-0-0.wav</td>\n",
              "      <td>100652</td>\n",
              "      <td>0.000000</td>\n",
              "      <td>4.000000</td>\n",
              "      <td>1</td>\n",
              "      <td>2</td>\n",
              "      <td>3</td>\n",
              "      <td>dog_bark</td>\n",
              "    </tr>\n",
              "  </tbody>\n",
              "</table>\n",
              "</div>\n",
              "      <button class=\"colab-df-convert\" onclick=\"convertToInteractive('df-efb0b93d-4b15-4a1e-b33e-c8d015576c22')\"\n",
              "              title=\"Convert this dataframe to an interactive table.\"\n",
              "              style=\"display:none;\">\n",
              "        \n",
              "  <svg xmlns=\"http://www.w3.org/2000/svg\" height=\"24px\"viewBox=\"0 0 24 24\"\n",
              "       width=\"24px\">\n",
              "    <path d=\"M0 0h24v24H0V0z\" fill=\"none\"/>\n",
              "    <path d=\"M18.56 5.44l.94 2.06.94-2.06 2.06-.94-2.06-.94-.94-2.06-.94 2.06-2.06.94zm-11 1L8.5 8.5l.94-2.06 2.06-.94-2.06-.94L8.5 2.5l-.94 2.06-2.06.94zm10 10l.94 2.06.94-2.06 2.06-.94-2.06-.94-.94-2.06-.94 2.06-2.06.94z\"/><path d=\"M17.41 7.96l-1.37-1.37c-.4-.4-.92-.59-1.43-.59-.52 0-1.04.2-1.43.59L10.3 9.45l-7.72 7.72c-.78.78-.78 2.05 0 2.83L4 21.41c.39.39.9.59 1.41.59.51 0 1.02-.2 1.41-.59l7.78-7.78 2.81-2.81c.8-.78.8-2.07 0-2.86zM5.41 20L4 18.59l7.72-7.72 1.47 1.35L5.41 20z\"/>\n",
              "  </svg>\n",
              "      </button>\n",
              "      \n",
              "  <style>\n",
              "    .colab-df-container {\n",
              "      display:flex;\n",
              "      flex-wrap:wrap;\n",
              "      gap: 12px;\n",
              "    }\n",
              "\n",
              "    .colab-df-convert {\n",
              "      background-color: #E8F0FE;\n",
              "      border: none;\n",
              "      border-radius: 50%;\n",
              "      cursor: pointer;\n",
              "      display: none;\n",
              "      fill: #1967D2;\n",
              "      height: 32px;\n",
              "      padding: 0 0 0 0;\n",
              "      width: 32px;\n",
              "    }\n",
              "\n",
              "    .colab-df-convert:hover {\n",
              "      background-color: #E2EBFA;\n",
              "      box-shadow: 0px 1px 2px rgba(60, 64, 67, 0.3), 0px 1px 3px 1px rgba(60, 64, 67, 0.15);\n",
              "      fill: #174EA6;\n",
              "    }\n",
              "\n",
              "    [theme=dark] .colab-df-convert {\n",
              "      background-color: #3B4455;\n",
              "      fill: #D2E3FC;\n",
              "    }\n",
              "\n",
              "    [theme=dark] .colab-df-convert:hover {\n",
              "      background-color: #434B5C;\n",
              "      box-shadow: 0px 1px 3px 1px rgba(0, 0, 0, 0.15);\n",
              "      filter: drop-shadow(0px 1px 2px rgba(0, 0, 0, 0.3));\n",
              "      fill: #FFFFFF;\n",
              "    }\n",
              "  </style>\n",
              "\n",
              "      <script>\n",
              "        const buttonEl =\n",
              "          document.querySelector('#df-efb0b93d-4b15-4a1e-b33e-c8d015576c22 button.colab-df-convert');\n",
              "        buttonEl.style.display =\n",
              "          google.colab.kernel.accessAllowed ? 'block' : 'none';\n",
              "\n",
              "        async function convertToInteractive(key) {\n",
              "          const element = document.querySelector('#df-efb0b93d-4b15-4a1e-b33e-c8d015576c22');\n",
              "          const dataTable =\n",
              "            await google.colab.kernel.invokeFunction('convertToInteractive',\n",
              "                                                     [key], {});\n",
              "          if (!dataTable) return;\n",
              "\n",
              "          const docLinkHtml = 'Like what you see? Visit the ' +\n",
              "            '<a target=\"_blank\" href=https://colab.research.google.com/notebooks/data_table.ipynb>data table notebook</a>'\n",
              "            + ' to learn more about interactive tables.';\n",
              "          element.innerHTML = '';\n",
              "          dataTable['output_type'] = 'display_data';\n",
              "          await google.colab.output.renderOutput(dataTable, element);\n",
              "          const docLink = document.createElement('div');\n",
              "          docLink.innerHTML = docLinkHtml;\n",
              "          element.appendChild(docLink);\n",
              "        }\n",
              "      </script>\n",
              "    </div>\n",
              "  </div>\n",
              "  "
            ]
          },
          "metadata": {},
          "execution_count": 5
        }
      ]
    },
    {
      "cell_type": "markdown",
      "source": [
        "* İlk amacımız, ses dosyalarını resimlere dönüştürüp etiketlerine göre bir klasöre atmak. Yani her etiket için bir klasör olacak(toplam 10 etiket olduğu için 10 klasör olacak) ve her klasör bir etiketin resimlerini tutacak. Mesela '8' adında klasör, 8(siren) etiketli ses dosyalarının resimlerini tutsun istiyoruz. \n",
        "\n",
        "* Bunun için evvela bu 10 klasörü içeren \"our_spectrograms\" adında bir klasör oluşturalım. Daha sonra bunun içine 0'dan 9'a klasör oluşturalım. "
      ],
      "metadata": {
        "id": "MVt_32BWdPb3"
      }
    },
    {
      "cell_type": "code",
      "source": [
        "os.mkdir(\"our_spectrograms\") #Ana Klasör"
      ],
      "metadata": {
        "id": "jsneyH8QdP7v"
      },
      "execution_count": 6,
      "outputs": []
    },
    {
      "cell_type": "code",
      "source": [
        "#Toplam 10 Sınıf var\n",
        "num_of_classes=10 \n",
        "#0'dan 9'a isimlendirilmiş 10 klasörü bu dosya yoluna atacağız.\n",
        "main_folder= \"/content/drive/My Drive/global_ai_hub/our_spectrograms\" "
      ],
      "metadata": {
        "id": "SPUJDTeedTc7"
      },
      "execution_count": 7,
      "outputs": []
    },
    {
      "cell_type": "markdown",
      "source": [
        "* Aşağıdaki komutu çalıştırdığımızda 0, 1, 2, 3, ... , 8, 9 isimlerinde 10 klasör oluşmuş olacak."
      ],
      "metadata": {
        "id": "duECylnndV-y"
      }
    },
    {
      "cell_type": "code",
      "source": [
        "for i in range(num_of_classes):\n",
        "  os.mkdir(main_folder+\"/\"+str(i))"
      ],
      "metadata": {
        "id": "0Vx75OcrdW01"
      },
      "execution_count": 8,
      "outputs": []
    },
    {
      "cell_type": "markdown",
      "source": [
        "## 1. Spectrogram Oluşturma \n",
        "\n",
        "* UrbanSound8K.tar.gz'den çıkarttığımız ses dosyalarını resime dönüştürelim.\n",
        "\n",
        "* Aşağıdaki fonksiyon, proje dökümanında vardı. Aynen aldık. Bu fonksiyona bir ses dosyası verirseniz onu ham resme dönüştürüyor. Dolayısıyla elimizdeki tüm ses dosyalarını bu fonksiyona vermemiz gerekiyor. "
      ],
      "metadata": {
        "id": "3Diijg7bdaQn"
      }
    },
    {
      "cell_type": "code",
      "source": [
        "def create_spectrogram(y):\n",
        "  spec= librosa.feature.melspectrogram(y=y)\n",
        "  spec_conv=librosa.amplitude_to_db(spec, ref=np.max)\n",
        "  return spec_conv #Ham Resim"
      ],
      "metadata": {
        "id": "uiHuY5h2daqA"
      },
      "execution_count": 9,
      "outputs": []
    },
    {
      "cell_type": "markdown",
      "source": [
        "* Aşağıdaki fonksiyon ise ham resmi gerçek renkli resme dönüştürecek ve kaydedecek.\n",
        "\n",
        "* Bu foknsiyon iki parametre alıyor:\n",
        "\n",
        "=> SOUND_PATH: Ses dosyasının dosya yolu(/content/drive/My Drive/global_ai_hub/UrbanSound8K/sound/fold1/7061-6-0-0.wav gibi)\n",
        "\n",
        "=> IMAGE_PATH: Sesi resme dönüştürdükten sonra resmi atacağımız dosya yolu(/content/drive/My Drive/global_ai_hub/our_spectrograms/6 gibi)"
      ],
      "metadata": {
        "id": "iV2j9jBEdd2m"
      }
    },
    {
      "cell_type": "code",
      "source": [
        "def save_image(SOUND_PATH, IMAGE_PATH):\n",
        "  y, sr = librosa.load(SOUND_PATH)\n",
        "  spec_conv=create_spectrogram(y)\n",
        "  librosa.display.specshow(spec_conv, sr=sr)\n",
        "  plt.savefig(IMAGE_PATH, bbox_inches='tight', pad_inches=0, transparent=True) #Resmi IMAGE_PATH'e kaydediyor.\n",
        "  plt.close()"
      ],
      "metadata": {
        "id": "yWFktqntdeKB"
      },
      "execution_count": 10,
      "outputs": []
    },
    {
      "cell_type": "markdown",
      "source": [
        "### NOT: UrbanSound8K.tar.gz sıkıştırılmış dosyasını çıkardğımızda ses dosyalarının ayrı ayrı 10 fold ile tutulduğunu görüyoruz. Dolayısıyla tüm ses dosyalarını resme dönüştürebilmek için sırasıyla tüm 10 fold'u da gezip tüm ses dosyalarını okumamız lazım.\n",
        "\n",
        "### Aşağıdaki kod bloğunda range(1,6) ile dönen dış for'un aslında range(1,11) ile dönmesi gerekirdi. Yani ilk 5 fold'u değil, 10 fold'un hepsini okuması gerekirdi. Ancak sadece 5 ses fold'undan veri alabiliyorum. Çünkü daha fazla fold'dan veri almaya kalkıştığımda GPU yeterli gelmiyor ve \"OUT OF MEMORY\" hatasıyla karşılaşıyorum.\n",
        "\n",
        "### Bu yüzden sadece ses verilerinin nasıl resme dönüştürüldüğünü göstermek amacıyla bu kod bloklarını yazdık. Ancak bize tüm ses dosyalarının resim hali lazım olduğu için Global AI Hub'ın bize sağladığı ses resimlerini doğrudan eğitim için kullanacağız."
      ],
      "metadata": {
        "id": "rCC3xtqvdh9h"
      }
    },
    {
      "cell_type": "code",
      "source": [
        "# fold1, fold2, fold3..., fold5 için 1,2,3,4,5 sayılarını dönsün:\n",
        "for folder_index in range(1,6):\n",
        "  #/content/drive/My Drive/global_ai_hub/UrbanSound8K/audio/fold1 gibi dosya yolları oluşturalım:\n",
        "  sound_folder=\"/content/drive/My Drive/global_ai_hub/UrbanSound8K/audio/fold\"+str(folder_index)\n",
        "  #os.listdir linux'taki ls komutu ile aynı. İçindeki dosya isimlerinin hepsini liste yapıp bize veriyor.\n",
        "  for sound_file in os.listdir(sound_folder):\n",
        "    if sound_file.endswith(\".wav\"): #Sadece .wav uzantılı dosyaları alsın.\n",
        "        sound_label=sound_file.split(\"-\")[1] # Ses dosyasının etiketi. 3(dog bark) gibi\n",
        "        sound_name=sound_file.split(\".\")[0] #Ses dosyasının uzantısız ismi. 9223-2-0-4.wav'ın 9223-2-0-4 ismi gibi\n",
        "        save_image(sound_folder+\"/\"+sound_file, main_folder+\"/\"+sound_label+\"/\"+sound_name+\".png\") #Bir üstteki fonksiyon ile resmi kaydedelim."
      ],
      "metadata": {
        "id": "52qvjLdEdiVt"
      },
      "execution_count": 11,
      "outputs": []
    },
    {
      "cell_type": "markdown",
      "source": [
        "* Artık resimleri oluşturduk. Drive'daki our_spectrograms resim dosyasının içindeki dosyalara bakarsanız resimlerin etiketlerine göre dosyalara kaydedilmiş olduklarını görebilirsiniz. "
      ],
      "metadata": {
        "id": "aucEPT6Pdp8a"
      }
    },
    {
      "cell_type": "markdown",
      "source": [
        "## 2. Önişleme - Notebook\n",
        "a. Görüntüleri (spectrogramları) sırasıyla okuyarak, grayscale dönüşümü, resizing ve normalizasyon yapın.\n",
        "\n",
        "b. Görüntüleri ait oldukları etiketlerle birlikte, [görüntü, etiket] formatında bir listeye ekleyin.\n",
        "\n",
        "c. Bu listeyi kullanarak, X_train, y_train, X_val, y_val, X_test ve y_test veri setlerini oluşturun.\n",
        "\n",
        "d. Bu veri setlerini bilgisayarınıza kaydedin.\n"
      ],
      "metadata": {
        "id": "lyJBnoEcdsRn"
      }
    },
    {
      "cell_type": "markdown",
      "source": [
        "* Artık ses dosyalarıyla bir işimiz kalmadı. Ses dosyalarını renkli resimlere dönüştürdük ve etiketlerine göre birbirlerinden ayırdık.\n",
        "\n",
        "# Daha önce söylediğimiz gibi; GPU kısıtlamasından dolayı ses dosyalarının tamamını resme dönüştüremedik. Ancak Global AI Hub, proje dökümanında ses dosyalarının tamamının spektrogramlarını bizimle paylaşmış.\n",
        "\n",
        "\"Değerlendirme sadece “Önişleme” ve “Model Hazırlanması ve Eğitilmesi” notebookları üzerinden olacaktır! Sizden 2 farklı notebook beklenmektedir. Spectrogram oluşturma kısmını isteyen arkadaşlarımız yapmayarak, hazırlanmış spectrogramları aşağıdaki linkten indirerek çalışmalarına bunun üzerinden devam edebilirler.\"\n",
        "\n",
        "Spectrograms:https://drive.google.com/drive/folders/1xey3vAVNDjWxnSfhuUsf_5dGANZWmCog?usp=sharing\n",
        "\n",
        "# Bu linkteki \"spectrograms\" dosyasını kendi drive'ımıza şöyle alıyoruz: \n",
        "\n",
        "* 1-) Bu linke tıkladıktan sonra sol sütunda bulunan \"Shared With Me(Benimle Paylaşılanlar)\" butonuna tıklanır. \n",
        "\n",
        "* 2-) En üstte bulunan \"spectrograms\" klasörüne sağ tıklanır ve \"Add Shortcut to Drive(Drive'a Kısayol Ekle)\" butonuna tıklanır. \n",
        "\n",
        "3-) Ekrana gelen pencereyle istenilen konuma dosya getirilir ve \"Add Shortcut(Kısayol Ekle)\" butonuna basılır.\n",
        "\n",
        "Böylece Global AI Hub'ın \"spectrograms\" klasörü kendi drive'ımıza gelmiş olur. Biz bu klasörü \"global_ai_hub\" klasörünün içerisine gönderdik."
      ],
      "metadata": {
        "id": "XdYyEqCFdvNZ"
      }
    },
    {
      "cell_type": "code",
      "source": [
        "main_folder=\"/content/drive/My Drive/global_ai_hub/spectrograms\""
      ],
      "metadata": {
        "id": "wWC8FXH_dqRD"
      },
      "execution_count": 12,
      "outputs": []
    },
    {
      "cell_type": "code",
      "source": [
        "!ls"
      ],
      "metadata": {
        "colab": {
          "base_uri": "https://localhost:8080/"
        },
        "id": "HunSVdFeJk5I",
        "outputId": "82993962-4298-420f-dfc4-53dfab950fec"
      },
      "execution_count": 23,
      "outputs": [
        {
          "output_type": "stream",
          "name": "stdout",
          "text": [
            "chapter1.ipynb\tour_spectrograms  UrbanSound8K\n",
            "chapter2.ipynb\tspectrograms\t  UrbanSound8K.tar.gz\n"
          ]
        }
      ]
    },
    {
      "cell_type": "code",
      "source": [
        "# Global AI Hub'ın bize sağladığı spectrograms dosyasının içindeki etiket dosyaları:\n",
        "!ls \"/content/drive/My Drive/global_ai_hub/spectrograms\""
      ],
      "metadata": {
        "colab": {
          "base_uri": "https://localhost:8080/"
        },
        "id": "6RaMwXnYd00h",
        "outputId": "c1cbddc8-7705-4b24-e5d6-1ea726d774c2"
      },
      "execution_count": 24,
      "outputs": [
        {
          "output_type": "stream",
          "name": "stdout",
          "text": [
            "0  1  2  3  4  5  6  7\t8  9\n"
          ]
        }
      ]
    },
    {
      "cell_type": "markdown",
      "source": [
        "### Ön işleme aşamasında üç hedef var: \n",
        "\n",
        "=> İlk önce renkli resimleri gri hale çevireceğiz. \n",
        "\n",
        "=> Resimlerin boyutları birbirinden farklı. CNN'de eğitim yapabilmemiz için resimleri aynı boyuta sokmamız şart. Bunun için resimlerin hepsini aynı boyuta sokacağız. (biz hepsini (100,100) formuna sokmayı tercih ettik)\n",
        "\n",
        "=> Resimler 0-255 arası değerler alıyor. 100, 200 gibi sayılarla eğitim yapmak bir hesap yükü getiriyor. Bu yüzden bu piksel değerlerini 0(min)-1(max) arasına çekmek(normalizasyon) eğitimi kolaylaştıracaktır."
      ],
      "metadata": {
        "id": "itVbM-tzd3C7"
      }
    },
    {
      "cell_type": "code",
      "source": [
        "X=[] #Tüm resimleri tutacak dizi\n",
        "y=[] #Tüm resimlerin etiketlerini tutacak dizi\n",
        "# Her etiket dosyası ismi için(0, 1, 2, 3, 4, ..., 8, 9) sayı dönsün: \n",
        "for label in range(10):\n",
        "  #Linux'taki ls komutunda olduğu gibi her etiket dosyasının içine baksın ve içindeki tüm dosyaları versin.\n",
        "  images=os.listdir(main_folder+\"/\"+str(label))  \n",
        "  # İçteki for döngüsü ile sırasıyla tüm resimleri gezsin.\n",
        "  for image_index in range(len(images)):\n",
        "    img_gray=cv2.imread(main_folder+\"/\"+str(label)+\"/\"+images[image_index],0) #Renkli resmi gri olarak(0:gri, 1:renkli) oku.\n",
        "    resized_gray = cv2.resize(img_gray, (100,100) , interpolation = cv2.INTER_AREA) #Resmi (100,100) boyutuna getir.\n",
        "    #Resimlerdeki piksellerdeki en büyük değer 255 olduğu için tüm pikselleri 255'e böl.\n",
        "    normalized_gray=resized_gray/255 #Bu sayede tüm piksel değerleri 0-1 arasında olacak.\n",
        "    X.append(normalized_gray) #İşlenmiş resmi X listesine ekle.\n",
        "    y.append(label) #İşlenmiş resmin etiketini y listesine ekle."
      ],
      "metadata": {
        "id": "vitq-kV3d3fp"
      },
      "execution_count": 25,
      "outputs": []
    },
    {
      "cell_type": "markdown",
      "source": [
        "* Tüm resimleri X listesine, etiketlerini de y listesine ekledik.\n",
        "\n",
        "* Toplam Resim Sayısı=8732"
      ],
      "metadata": {
        "id": "bARatt-gd8jx"
      }
    },
    {
      "cell_type": "code",
      "source": [
        "print(len(X))\n",
        "print(len(y))"
      ],
      "metadata": {
        "colab": {
          "base_uri": "https://localhost:8080/"
        },
        "id": "AoOsGwP2d841",
        "outputId": "771a914a-798b-49a7-f5eb-d215b7cb80cd"
      },
      "execution_count": 26,
      "outputs": [
        {
          "output_type": "stream",
          "name": "stdout",
          "text": [
            "8732\n",
            "8732\n"
          ]
        }
      ]
    },
    {
      "cell_type": "markdown",
      "source": [
        "* X'i(resimlerin listesini) ve y'yi(etiketlerinin listesini) train, validation ve test için böleceğiz. Ama bir problem var :)\n",
        "\n",
        "* Resimleri ve etiketleri eklerken dikkat ettiyseniz 0,0,0,0,0...0,1,1,1,...,1,2,2,2,2,2...8,8,8,8,8...,8,8,9,9,9,9,...,9,9 şeklinde ekledik. Gösterelim:"
      ],
      "metadata": {
        "id": "TBTqWAjFeGIq"
      }
    },
    {
      "cell_type": "code",
      "source": [
        "print(y[0])\n",
        "print(y[1200])\n",
        "print(y[1500])\n",
        "print(y[2500])\n",
        "print(y[3500])\n",
        "print(y[4500])\n",
        "print(y[5500])\n",
        "print(y[6500])\n",
        "print(y[7500])\n",
        "print(y[8500])"
      ],
      "metadata": {
        "colab": {
          "base_uri": "https://localhost:8080/"
        },
        "id": "t2oi71kCeDw8",
        "outputId": "31ab00c0-97a3-4db1-89b8-bc26f83c8790"
      },
      "execution_count": 27,
      "outputs": [
        {
          "output_type": "stream",
          "name": "stdout",
          "text": [
            "0\n",
            "1\n",
            "2\n",
            "3\n",
            "4\n",
            "5\n",
            "6\n",
            "7\n",
            "8\n",
            "9\n"
          ]
        }
      ]
    },
    {
      "cell_type": "markdown",
      "source": [
        "* Eğer veriyi bu halde bölmeye kalkarsak mesela train kısmında 0'dan 7'e kadar, valid kısmında 7'den 8'e, test kısmında 8'den 9'a kadarki etiketli resimleri almak gibi bir senaryo oluşur. Dolayısıyla train verisiyle eğitilen model 7, 8 ve 9 etiketlerini göremez. Dolayısıyla X ve y listesini(aynı hizada) karıştırmamız lazım ki train, valid ve test bölümünde her bölüm için tüm sınıflar var olabilsin."
      ],
      "metadata": {
        "id": "Yg9RI8LXeLdS"
      }
    },
    {
      "cell_type": "markdown",
      "source": [
        "* random kütüphanesinin shuffle metodu X'i ve y'yi hizalayıp karıştırıyor, sonra tekrar X ve y olarak bize veriyor. Bu şekilde bu problemden de kurtulmuş olduk."
      ],
      "metadata": {
        "id": "SnTcZlnSeOYK"
      }
    },
    {
      "cell_type": "code",
      "source": [
        "import random\n",
        "def shuffle_xy(X,y):\n",
        "  z = list(zip(X, y))\n",
        "  random.shuffle(z)\n",
        "  X, y = zip(*z)\n",
        "  return X, y"
      ],
      "metadata": {
        "id": "D6dCMpojeL6S"
      },
      "execution_count": 28,
      "outputs": []
    },
    {
      "cell_type": "code",
      "source": [
        "# Örnek:\n",
        "veri=[1, 2, 3]\n",
        "etiket=[\"bir\", \"iki\", \"üç\"]\n",
        "karıştırılmış_veri, karıştırılmış_etiket=shuffle_xy(veri, etiket)\n",
        "print(karıştırılmış_veri)\n",
        "print(karıştırılmış_etiket)"
      ],
      "metadata": {
        "colab": {
          "base_uri": "https://localhost:8080/"
        },
        "id": "W2ESkkz6eSVA",
        "outputId": "22d5c116-5fc0-4d80-fa16-20689013fd5b"
      },
      "execution_count": 29,
      "outputs": [
        {
          "output_type": "stream",
          "name": "stdout",
          "text": [
            "(2, 1, 3)\n",
            "('iki', 'bir', 'üç')\n"
          ]
        }
      ]
    },
    {
      "cell_type": "code",
      "source": [
        "X, y=shuffle_xy(X, y) #Resim listesi(X) ve etiket listesi(y)'ni aynı hizada karıştıralım.\n",
        "X=np.array(X)\n",
        "y=np.array(y)"
      ],
      "metadata": {
        "id": "550Fbl_MeUQo"
      },
      "execution_count": 30,
      "outputs": []
    },
    {
      "cell_type": "markdown",
      "source": [
        "* Ön işlenmiş resimleri ve etiketleri birer birer csv dosyasına kaydedip \"chapter2.ipynb\" notebook'unda aynı şekilde açmamız gerekiyor. Etiket dizisi(y) bir boyutlu olduğu için kaydetmede bir problem olmayacaktır. Ancak X üç boyutlu olduğundan dolayı onu kaydedebilmek için X'in içindeki her iki boyutlu resmi düzleyerek bir boyuta getirmemiz, yani X'i 3 boyutludan 2 boyutlu forma getirmemiz gerekiyor."
      ],
      "metadata": {
        "id": "439bWOYdizhx"
      }
    },
    {
      "cell_type": "code",
      "source": [
        "print(X.shape)"
      ],
      "metadata": {
        "colab": {
          "base_uri": "https://localhost:8080/"
        },
        "id": "9S2hWdv4jn2I",
        "outputId": "d320f8c2-9ee1-49ed-c9c7-11bc646970ee"
      },
      "execution_count": 31,
      "outputs": [
        {
          "output_type": "stream",
          "name": "stdout",
          "text": [
            "(8732, 100, 100)\n"
          ]
        }
      ]
    },
    {
      "cell_type": "code",
      "source": [
        "flatten_X= X.reshape(len(X),-1) #Üç boyuttan iki boyuta geçiş\n",
        "print(flatten_X.shape)"
      ],
      "metadata": {
        "colab": {
          "base_uri": "https://localhost:8080/"
        },
        "id": "8uCoXAoYeWgl",
        "outputId": "6f4b030f-d792-42a1-90c8-23c70bb30508"
      },
      "execution_count": 32,
      "outputs": [
        {
          "output_type": "stream",
          "name": "stdout",
          "text": [
            "(8732, 10000)\n"
          ]
        }
      ]
    },
    {
      "cell_type": "code",
      "source": [
        "flatten_X.shape"
      ],
      "metadata": {
        "colab": {
          "base_uri": "https://localhost:8080/"
        },
        "id": "iMiEbun3ZOaF",
        "outputId": "a579b69b-ffaa-46ff-8412-a8f502423327"
      },
      "execution_count": 33,
      "outputs": [
        {
          "output_type": "execute_result",
          "data": {
            "text/plain": [
              "(8732, 10000)"
            ]
          },
          "metadata": {},
          "execution_count": 33
        }
      ]
    },
    {
      "cell_type": "markdown",
      "source": [
        "* flatten_X oldukça büyük bir array. GPU yetersizliğinden dolayı flatten_X array'ini parça parça kaydedip ikinci bölümde parça parça okumam gerekti. Aşağıdaki kodda flatten_X 20 parçaya bölünüyor, 20 parça da \"images_csv_file\" klasöründe ayrı ayrı csv dosyalarına kaydediliyor."
      ],
      "metadata": {
        "id": "hYej1-zbgdEL"
      }
    },
    {
      "cell_type": "code",
      "source": [
        "os.mkdir(\"images_csv_folder\")\n",
        "number_of_pieces=20\n",
        "total_size=len(flatten_X)\n",
        "start=0\n",
        "for i in range(number_of_pieces):\n",
        "  end=int((i+1)*(total_size/number_of_pieces))\n",
        "  file_name=\"images_csv_folder/images\"+str(i)+\".csv\"\n",
        "  np.savetxt(file_name, flatten_X[start:end], delimiter=\",\")\n",
        "  start=end"
      ],
      "metadata": {
        "id": "5aH2G8G5TLA0"
      },
      "execution_count": 34,
      "outputs": []
    },
    {
      "cell_type": "code",
      "source": [
        "np.savetxt(\"labels.csv\", y, delimiter=\",\")"
      ],
      "metadata": {
        "id": "nq9enym5Tq-s"
      },
      "execution_count": 35,
      "outputs": []
    },
    {
      "cell_type": "code",
      "source": [],
      "metadata": {
        "id": "28yB2vXiLX6b"
      },
      "execution_count": null,
      "outputs": []
    }
  ]
}